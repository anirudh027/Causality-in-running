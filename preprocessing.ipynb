{
 "cells": [
  {
   "cell_type": "code",
   "execution_count": null,
   "metadata": {},
   "outputs": [],
   "source": [
    "# full_final_data = pd.read_csv('full_final_data.csv')\n",
    "full_final_data = pd.read_parquet('full_final_data.parquet', engine='fastparquet')\n",
    "\n",
    "filtered_df = full_final_data.copy()\n",
    "filtered_df = filtered_df[cols_to_keep].dropna()\n",
    "filtered_df = filtered_df[filtered_df['gender']!='other']\n",
    "filtered_df['apparel_model'] = filtered_df[\"apparel_model_brand\"] + ' ' + filtered_df[\"apparel_model_name\"]\n",
    "filtered_df.reset_index(drop=True, inplace=True)"
   ]
  }
 ],
 "metadata": {
  "language_info": {
   "name": "python"
  }
 },
 "nbformat": 4,
 "nbformat_minor": 2
}
